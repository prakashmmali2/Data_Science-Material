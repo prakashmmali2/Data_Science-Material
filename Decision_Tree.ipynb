{
 "cells": [
  {
   "cell_type": "code",
   "execution_count": 1,
   "id": "4286505e-4714-4e31-a389-043a0f564f4a",
   "metadata": {},
   "outputs": [],
   "source": [
    "def class_count(rows):\n",
    "    \"\"\"Count the Number of each type\"\"\"\n",
    "    classcounts = {}\n",
    "    for row in rows:\n",
    "        label = row[-1]\n",
    "        if label not in counts:\n",
    "            counts[label] = 0\n",
    "        counts[label] += 1\n",
    "    return counts"
   ]
  },
  {
   "cell_type": "code",
   "execution_count": 2,
   "id": "b492fc98-b51c-4570-9a2c-35f979687939",
   "metadata": {},
   "outputs": [],
   "source": [
    "def is_numeric(value):\n",
    "    \"\"\"test if value is null or not\"\"\"\n",
    "    return isinstance(value , int) or isinstance(value , float)\n",
    "\n"
   ]
  },
  {
   "cell_type": "code",
   "execution_count": 3,
   "id": "7dc608ec-268c-4ed3-887b-9df115b6a100",
   "metadata": {},
   "outputs": [],
   "source": [
    "class Question:\n",
    "\n",
    "    def __init__(self , column , value):\n",
    "        self.column = column\n",
    "        self.value = value\n",
    "\n",
    "    def match(self , example):\n",
    "        val = example[self.column]\n",
    "        if is_numeric(val):\n",
    "            return val >= self.value\n",
    "        else:\n",
    "            return val == self.value\n",
    "\n",
    "    def __rept__(self):\n",
    "        condition = \"==\"\n",
    "        if is_numeric(self.value):\n",
    "            condition = \">=\"\n",
    "        return \"Is %s %s %s?\" %(header[self.column] , condition , str(self.value))\n",
    "\n"
   ]
  },
  {
   "cell_type": "code",
   "execution_count": 4,
   "id": "4ec9e651-afdc-474d-ae7a-bb38b5294c14",
   "metadata": {},
   "outputs": [],
   "source": [
    "def particions(rows , question):\n",
    "    true_rows , false_rows = [] , []\n",
    "    for row in rows:\n",
    "        if Question.match(row , 1):\n",
    "            true_rows.append(row)\n",
    "        else:\n",
    "            false_rows.append(row)\n",
    "    return true_rows , false_rows\n",
    "\n",
    "\n"
   ]
  },
  {
   "cell_type": "code",
   "execution_count": 5,
   "id": "5d0a76f7-a2aa-4244-bb67-8ef89fbca93d",
   "metadata": {},
   "outputs": [],
   "source": [
    "def gini(rows):\n",
    "    counts = class_counts(rows)\n",
    "    impurity = 1\n",
    "    for lbl in counts:\n",
    "        prov_of_lbl = counts[lbl]/float(len(rows))\n",
    "        impurity -= prov_of_lbl**2\n",
    "    return impurity\n",
    "\n"
   ]
  },
  {
   "cell_type": "code",
   "execution_count": 6,
   "id": "990fafcb-6144-4bde-a394-40a8a562f569",
   "metadata": {},
   "outputs": [],
   "source": [
    "def info_gain(left , right , current_uncertainty):\n",
    "    \"\"\"information gain the uncertain of the starting node , minus the weight impurity of two child\"\"\"\n",
    "    p = float(len(left))/(len(left)) + len(right)\n",
    "    return current_uncertainty - p * gini(left) - (1 - p) * gini(right)\n"
   ]
  },
  {
   "cell_type": "code",
   "execution_count": 7,
   "id": "a7bc76b1-2c48-4e7d-9aed-8e0d98ed8915",
   "metadata": {},
   "outputs": [],
   "source": [
    "def find_best_split(rows):\n",
    "    best_gain = 0\n",
    "    best_quetion = None\n",
    "    current_uncertainty = gini(rows)\n",
    "    n_features = len(rows[0]) - 1\n",
    "\n",
    "    for col in range(n_features):\n",
    "        value = set([row[col] for row in rows])\n",
    "        for val in value:\n",
    "            question = Question(col , val)\n",
    "            true_rows , false_rows =  particions(rows, question)\n",
    "\n",
    "            if len(true_rows) == 0 or len(false_rows) == 0:\n",
    "                continue\n",
    "\n",
    "            gain = info_gain(true_rows , false_rows , current_uncertainty)\n",
    "\n",
    "            if gain >=  best_gain:\n",
    "                best_gain , best_question = gain , question\n",
    "\n",
    "    print(best_gain ,best_question)\n",
    "\n"
   ]
  },
  {
   "cell_type": "code",
   "execution_count": 8,
   "id": "f88e19b5-82b1-46a0-85a1-637424956a16",
   "metadata": {},
   "outputs": [],
   "source": [
    "class Leaf:\n",
    "\n",
    "    def __init__(self,rows,predictions):\n",
    "        self.predictions = class_counts(rows)\n",
    "\n"
   ]
  },
  {
   "cell_type": "code",
   "execution_count": 9,
   "id": "4828c029-ccfa-45e7-8562-b5be1f07b1af",
   "metadata": {},
   "outputs": [],
   "source": [
    "class Decision_Node:\n",
    "    def __init__(self,question , true_branch , false_branch):\n",
    "        self.question = question\n",
    "        self.true_branch = true_branch\n",
    "        self.false_branch = false_branch\n",
    "\n"
   ]
  },
  {
   "cell_type": "code",
   "execution_count": 10,
   "id": "4ca0a572-6a08-4cb6-bc24-3084562c2bbf",
   "metadata": {},
   "outputs": [],
   "source": [
    "def build_tree(rows):\n",
    "    gain =  0\n",
    "    question = find_best_split(rows)\n",
    "    if gain == 0:\n",
    "        return Leaf(rows)\n",
    "\n",
    "\n",
    "    true_rows , false_rows =  particions(rows , question)\n",
    "    \n",
    "    true_branch = build_tree(true_rows)\n",
    "    flase_branch = build_tree(false_rows)\n",
    "    return Decision_Node(question , true_branch , false_branch)\n",
    "\n"
   ]
  },
  {
   "cell_type": "code",
   "execution_count": 11,
   "id": "43a0b155-b67c-459a-8fd1-e2d200196f97",
   "metadata": {},
   "outputs": [],
   "source": [
    "def print_tree(node , spacing = \"\"):\n",
    "    if isinstance(node , Leaf):\n",
    "        print(spacing + \"Predict\" , noed.predictions)\n",
    "        return\n",
    "\n",
    "    print(spacing + '--> True')\n",
    "    print_tree(node.flase_branch,spacing + \"  \")\n",
    "\n"
   ]
  },
  {
   "cell_type": "code",
   "execution_count": 12,
   "id": "cc0986eb-2b0e-47ed-b02d-6718d9d4630f",
   "metadata": {},
   "outputs": [],
   "source": [
    "\n",
    "def classify(row , node):\n",
    "    if isinstance(node , Leaf):\n",
    "        return node.predictions\n",
    "\n",
    "\n",
    "    if node.question.match(row):\n",
    "        return classify(row,node.true_branch)\n",
    "    else:\n",
    "        return classify(row,node.false_branch)\n"
   ]
  },
  {
   "cell_type": "code",
   "execution_count": 13,
   "id": "8e819d8b-2c4a-40ba-b91d-db76296149c8",
   "metadata": {},
   "outputs": [],
   "source": [
    "def print_leaf(counts):\n",
    "    total = sum(counts.valuse()) * 1.0\n",
    "    probs = {}\n",
    "    for lbs in counts.keys():\n",
    "        probs[lbl] = str(int(count[lbl] / total * 100)) + \"%\"\n",
    "\n",
    "    return probs\n"
   ]
  }
 ],
 "metadata": {
  "kernelspec": {
   "display_name": "Python 3 (ipykernel)",
   "language": "python",
   "name": "python3"
  },
  "language_info": {
   "codemirror_mode": {
    "name": "ipython",
    "version": 3
   },
   "file_extension": ".py",
   "mimetype": "text/x-python",
   "name": "python",
   "nbconvert_exporter": "python",
   "pygments_lexer": "ipython3",
   "version": "3.12.4"
  }
 },
 "nbformat": 4,
 "nbformat_minor": 5
}
