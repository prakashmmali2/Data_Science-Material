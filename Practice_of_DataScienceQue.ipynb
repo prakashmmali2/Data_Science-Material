{
 "cells": [
  {
   "cell_type": "code",
   "execution_count": 1,
   "id": "ec1abe88-b7ea-451f-8da2-4b0bee0921c1",
   "metadata": {},
   "outputs": [
    {
     "name": "stdout",
     "output_type": "stream",
     "text": [
      "Before without Swapping :  15 20\n",
      "After with Swapping :  30 15\n"
     ]
    }
   ],
   "source": [
    "a = 15\n",
    "b = 20\n",
    "\n",
    "print(\"Before without Swapping : \",a,b)\n",
    "\n",
    "b = a\n",
    "a = a+b\n",
    "\n",
    "print(\"After with Swapping : \",a,b)"
   ]
  }
 ],
 "metadata": {
  "kernelspec": {
   "display_name": "Python 3 (ipykernel)",
   "language": "python",
   "name": "python3"
  },
  "language_info": {
   "codemirror_mode": {
    "name": "ipython",
    "version": 3
   },
   "file_extension": ".py",
   "mimetype": "text/x-python",
   "name": "python",
   "nbconvert_exporter": "python",
   "pygments_lexer": "ipython3",
   "version": "3.12.4"
  }
 },
 "nbformat": 4,
 "nbformat_minor": 5
}
