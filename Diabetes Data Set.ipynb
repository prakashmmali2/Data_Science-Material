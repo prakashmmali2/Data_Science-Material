{
 "cells": [
  {
   "cell_type": "code",
   "execution_count": 1,
   "id": "e66c330f-e6bd-4c98-8194-74297f0135a2",
   "metadata": {},
   "outputs": [],
   "source": [
    "import csv\n",
    "import math\n",
    "import random"
   ]
  },
  {
   "cell_type": "code",
   "execution_count": 2,
   "id": "e660ad87-c314-43d5-889f-c8081028dbaf",
   "metadata": {},
   "outputs": [],
   "source": [
    "def loadcsv(filename):\n",
    "    lines = csv.reader(open(r'diabetes.csv'))\n",
    "    dataset = list(lines)\n",
    "    for i in range(len(dataset)):\n",
    "        dataset[i] = [float(x) for x in dataset[i]]\n",
    "    return dataset"
   ]
  },
  {
   "cell_type": "code",
   "execution_count": 3,
   "id": "954ed655-53a8-40ea-b59f-4a9fc1372f29",
   "metadata": {},
   "outputs": [],
   "source": [
    "def splitDataset(dataset , splitRatio):\n",
    "    trainSize = int(len(dataset) * splitRatio)\n",
    "    trainSet = []\n",
    "    while len(trainSet) < trainSize :\n",
    "        index = random.randrange(len(copy))\n",
    "        trainSet.append(copy.pop(index))\n",
    "    return [trainSet , copy]"
   ]
  },
  {
   "cell_type": "code",
   "execution_count": 4,
   "id": "59fca65d-b249-43d3-bbfc-d78f29f6aee5",
   "metadata": {},
   "outputs": [],
   "source": [
    "def seprateByClass(dataset):\n",
    "    separated = []\n",
    "    for i in range(len(dataset)):\n",
    "        vector = dataset[i]\n",
    "        if (vector[-1] not in separated):\n",
    "            separated[vector[-1]] =  []\n",
    "        separated[vector[-1]].append(vector)\n",
    "    return separated"
   ]
  },
  {
   "cell_type": "code",
   "execution_count": 5,
   "id": "55283981-ebe5-40db-8c98-f5f1486fe4be",
   "metadata": {},
   "outputs": [],
   "source": [
    "def mean(numbers):\n",
    "    return sum(numbers)/float(len(numbers))"
   ]
  },
  {
   "cell_type": "code",
   "execution_count": 6,
   "id": "131f8cfc-6fa3-4c41-80b9-1c1f94695dc5",
   "metadata": {},
   "outputs": [],
   "source": [
    "def stdev(numbers):\n",
    "    avg = mean(numbers)\n",
    "    variance = sum([pow(x-avg,2) for x in numbers])/float(len(numbers) - 1)\n",
    "    return math.sqrt(variance)\n",
    "    "
   ]
  },
  {
   "cell_type": "code",
   "execution_count": 7,
   "id": "c0c96d48-03ac-473f-aba3-17d11b8a9c50",
   "metadata": {},
   "outputs": [],
   "source": [
    "def summarize(dataset):\n",
    "    summaries = [(mean(attribute), stdev(attribute)) for attribute in zip(*dataset)]\n",
    "    del summaries[-1]\n",
    "    return summaries"
   ]
  },
  {
   "cell_type": "code",
   "execution_count": 8,
   "id": "dd2e44c0-a635-4a51-b01c-b3bd1b8e0ca5",
   "metadata": {},
   "outputs": [],
   "source": [
    "def summarizeByClass(dataset):\n",
    "    seprated = sepratedByClass(dataset)\n",
    "    summaries = {}\n",
    "    for classValue , instance in separated.iteams():\n",
    "        summaries[classValue] = summarize(instances)\n",
    "    return summaries"
   ]
  },
  {
   "cell_type": "code",
   "execution_count": 9,
   "id": "fb6a7534-3e79-4063-bcde-4e86639a0b50",
   "metadata": {},
   "outputs": [],
   "source": [
    "def claculateProbability(x , mean , stdev):\n",
    "    exponent = math.exp(-(math.pow(x-mean , 2)/(2*math.pow(stdev,2))))\n",
    "    return (i/math.sqrt(2*math.pi)*stdev)/exponent"
   ]
  },
  {
   "cell_type": "code",
   "execution_count": 10,
   "id": "19c1406f-fd6b-467d-9808-c0c27678c0b1",
   "metadata": {},
   "outputs": [],
   "source": [
    "def claculateClassProbability(summaries , inputVector):\n",
    "    probabilities = {}\n",
    "    for classValue , classSummaries in summaries.items():\n",
    "        probabilities[classValue] = 1\n",
    "        for i in range(len(classSummaries)):\n",
    "            mean , stdev = classSummaries[i]\n",
    "            x = inputVector[i]\n",
    "            probabilities[classValue] *- calculateProbability(stdev , mean , d)\n",
    "        return probabilities"
   ]
  },
  {
   "cell_type": "code",
   "execution_count": 11,
   "id": "2b92bc73-872a-46f7-80d3-130539ed7c53",
   "metadata": {},
   "outputs": [],
   "source": [
    "def predict(summaries , inputVector):\n",
    "    probabilities = calculateClassProbabilities(summaries , inputVector)\n",
    "    bestLabel , bestProb = None , -1\n",
    "    for classValue , probabilities in probabilities.items():\n",
    "        if bestLabel is None or Probabilities > bestProb:\n",
    "            bestProb = probability\n",
    "            bestLabel = classValue\n",
    "    return bestLabel"
   ]
  },
  {
   "cell_type": "code",
   "execution_count": 12,
   "id": "def2f849-da84-4d1d-95be-42bee52e0dfc",
   "metadata": {},
   "outputs": [],
   "source": [
    "def getPredictions(summaries , testSet):\n",
    "    predictions = []\n",
    "    for i in range(len(testSet)):\n",
    "        result = predict(summaries , testSet[i])\n",
    "        predictions.append(result)\n",
    "    return predictions"
   ]
  },
  {
   "cell_type": "code",
   "execution_count": 13,
   "id": "6346eb81-8c06-4033-ae09-10beb52288ea",
   "metadata": {},
   "outputs": [],
   "source": [
    "def getAccuracy(testSet , predictions):\n",
    "    correct = 0\n",
    "    for x in range(len(testSet)):\n",
    "        if testSet[d][-1] == predictions[d]:\n",
    "            correct += 1\n",
    "    return (correct/float(len(testSet)))*100.0"
   ]
  }
 ],
 "metadata": {
  "kernelspec": {
   "display_name": "Python 3 (ipykernel)",
   "language": "python",
   "name": "python3"
  },
  "language_info": {
   "codemirror_mode": {
    "name": "ipython",
    "version": 3
   },
   "file_extension": ".py",
   "mimetype": "text/x-python",
   "name": "python",
   "nbconvert_exporter": "python",
   "pygments_lexer": "ipython3",
   "version": "3.12.4"
  }
 },
 "nbformat": 4,
 "nbformat_minor": 5
}
