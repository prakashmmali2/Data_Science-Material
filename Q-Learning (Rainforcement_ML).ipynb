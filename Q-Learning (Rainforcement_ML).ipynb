{
 "cells": [
  {
   "cell_type": "code",
   "execution_count": 1,
   "id": "7354e18f-e4e5-488b-b83c-e153e5673de7",
   "metadata": {},
   "outputs": [],
   "source": [
    "import numpy as np"
   ]
  },
  {
   "cell_type": "code",
   "execution_count": 2,
   "id": "f0afe5ac-544c-48c7-801a-369c44abe7db",
   "metadata": {},
   "outputs": [],
   "source": [
    "gamma = 0.75 #Discount Factor\n",
    "alpha = 0.9  # Learning rate"
   ]
  },
  {
   "cell_type": "code",
   "execution_count": 3,
   "id": "078f875e-edf2-4f60-bb43-36dc4692b4f8",
   "metadata": {},
   "outputs": [],
   "source": [
    "# Define the states\n",
    "location_to_state = {\n",
    "    'L1' : 0,\n",
    "     'L2' : 1,\n",
    "     'L3' : 2,\n",
    "    'L4' : 3, \n",
    "    'L5' : 4,\n",
    "    'L6' : 5,\n",
    "    'L7' : 6,\n",
    "    'L8' : 7,\n",
    "    'L9' : 8\n",
    "}"
   ]
  },
  {
   "cell_type": "code",
   "execution_count": 4,
   "id": "1475e382-7ef0-49c0-a0cd-0c194d3e865b",
   "metadata": {},
   "outputs": [],
   "source": [
    "# Define the array for actions\n",
    "action = [0,1,2,3,4,5,6,7,8]"
   ]
  },
  {
   "cell_type": "code",
   "execution_count": 5,
   "id": "3298d7b1-186e-400a-a73d-186c62d65cb4",
   "metadata": {},
   "outputs": [],
   "source": [
    "#Define th rewards\n",
    "rewards = np.array([[0,1,0,0,0,0,0,0,0],\n",
    "                  [1,0,1,0,0,0,0,0,0],\n",
    "                   [0,1,0,0,0,1,0,0,0],\n",
    "                  [0,0,0,0,0,0,1,0,0],\n",
    "                  [0,1,0,0,0,0,0,1,0],\n",
    "                  [0,0,1,0,0,0,0,0,0],\n",
    "                  [0,0,0,1,0,0,0,1,0],\n",
    "                  [0,0,0,0,1,0,1,0,1],\n",
    "                  [0,0,0,0,0,0,0,1,0]])"
   ]
  },
  {
   "cell_type": "code",
   "execution_count": 6,
   "id": "fb1ee255-2c2d-4e96-a0b2-260db50cdaed",
   "metadata": {},
   "outputs": [],
   "source": [
    "state_to_location = dict((state , location) for location , state in location_to_state.items())"
   ]
  },
  {
   "cell_type": "code",
   "execution_count": 7,
   "id": "f5905bad-b6d3-488a-8ae3-62c1dcbeb7ba",
   "metadata": {},
   "outputs": [],
   "source": [
    "def get_optimal_route(start_location , end_location):\n",
    "    # Copy rewards matrix to new matrix\n",
    "    rewards_new = np.copy(rewards)\n",
    "    #  the ending state corresponding set the any priority of the given\n",
    "    ending_state = location_to_state[end_location]\n",
    "    # with the above iinformation automatically set the priority of the given ending state to the hightst one\n",
    "    rewards_new[ending_state , ending_state] = 999\n",
    "\n",
    "    #-----------------Q-Learning---------------------------------------\n",
    "\n",
    "    Q = np.array(np.zeros([9,9]))\n",
    "    # Q-leaning process \n",
    "    for i in range(1000):\n",
    "        #pick up a state randomly\n",
    "        current_state = np.random.randint(0,9) # Python excliusion the upper bound\n",
    "        # for traversion through the neigbor rewards locations in the size\n",
    "        playble_actions = []\n",
    "        for j in range(9):\n",
    "            if rewards_new[current_state,j] > 0:\n",
    "                playble_actions.append(j)\n",
    "        next_state = np.random.choice(playble_actions)\n",
    "        # Compute the terprole differnce\n",
    "        # The action hare exactly refers to going to the next state\n",
    "        TD = rewards_new[current_state,next_state] + gamma + Q[next_state , np.argmax(Q[next_state])] - Q[current_state , next_state]\n",
    "        # Update the values\n",
    "        Q[current_state,next_state] += alpha * TD\n",
    "    route = [start_location]\n",
    "    next_location = start_location\n",
    "    while(next_location != end_location):\n",
    "        starting_state = location_to_state[start_location]\n",
    "        next_state = np.argmax(Q[starting_state])\n",
    "        next_location = state_to_location[next_state]\n",
    "        route.append(next_location)\n",
    "        start_location = next_location\n",
    "    return route\n",
    "\n"
   ]
  },
  {
   "cell_type": "code",
   "execution_count": 8,
   "id": "aefb17c3-037a-4e81-b586-7388bb62402e",
   "metadata": {},
   "outputs": [
    {
     "name": "stdout",
     "output_type": "stream",
     "text": [
      "['L9', 'L8', 'L5', 'L2', 'L1']\n"
     ]
    }
   ],
   "source": [
    "print(get_optimal_route('L9','L1'))"
   ]
  }
 ],
 "metadata": {
  "kernelspec": {
   "display_name": "Python 3 (ipykernel)",
   "language": "python",
   "name": "python3"
  },
  "language_info": {
   "codemirror_mode": {
    "name": "ipython",
    "version": 3
   },
   "file_extension": ".py",
   "mimetype": "text/x-python",
   "name": "python",
   "nbconvert_exporter": "python",
   "pygments_lexer": "ipython3",
   "version": "3.12.4"
  }
 },
 "nbformat": 4,
 "nbformat_minor": 5
}
